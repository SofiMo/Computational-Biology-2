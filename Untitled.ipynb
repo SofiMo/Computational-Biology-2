{
 "cells": [
  {
   "cell_type": "code",
   "execution_count": 11,
   "id": "d58456a9",
   "metadata": {},
   "outputs": [],
   "source": [
    "import Bio.SeqIO\n",
    "import numpy as np"
   ]
  },
  {
   "cell_type": "code",
   "execution_count": 5,
   "id": "4ab5cca4",
   "metadata": {},
   "outputs": [],
   "source": [
    "file=\"PF00440_rp15 (1).txt\""
   ]
  },
  {
   "cell_type": "code",
   "execution_count": 13,
   "id": "912c166b",
   "metadata": {},
   "outputs": [],
   "source": [
    "msa=np.array(list(Bio.SeqIO.parse(file,\"fasta\")))"
   ]
  },
  {
   "cell_type": "code",
   "execution_count": 28,
   "id": "bb8a3682",
   "metadata": {},
   "outputs": [
    {
     "data": {
      "text/plain": [
       "100"
      ]
     },
     "execution_count": 28,
     "metadata": {},
     "output_type": "execute_result"
    }
   ],
   "source": [
    "len(msa[0,:])"
   ]
  },
  {
   "cell_type": "code",
   "execution_count": 34,
   "id": "b8f0b71e",
   "metadata": {},
   "outputs": [],
   "source": [
    "def get_marginal(col,am):\n",
    "    ind= col==am\n",
    "    prob= sum(ind)/len(ind)\n",
    "    return ind,prob"
   ]
  },
  {
   "cell_type": "code",
   "execution_count": 36,
   "id": "2759b864",
   "metadata": {},
   "outputs": [],
   "source": [
    "def get_MI(msa):\n",
    "    n=len(msa[0,:])\n",
    "    N=len(msa[:,0])\n",
    "    MI=np.zeros((n,n))\n",
    "    amino=[\"A\",\"R\",\"N\",\"D\",\"C\",\"E\",\"Q\",\"G\",\"H\",\"I\",\"L\",\"K\",\"M\",\"F\",\"P\",\"S\",\"T\",\"W\",\"Y\",\"V\"]\n",
    "    for i in range(n):  \n",
    "        for j in range(n):\n",
    "            for a in amino:\n",
    "                ind_a,p_a=get_marginal(msa[:,i],a)\n",
    "                for b in amino:\n",
    "                    ind_b,p_b=get_marginal(msa[:,j],b)\n",
    "                    p_ab=sum(ind_a & ind_b)/N\n",
    "                    if p_a*p_b!=0 and p_ab!=0: \n",
    "                        MI[i,j]+=p_ab*np.log(p_ab/(p_a*p_b)) \n",
    "    return MI"
   ]
  },
  {
   "cell_type": "code",
   "execution_count": 61,
   "id": "c024c7b7",
   "metadata": {},
   "outputs": [],
   "source": [
    "test=msa[0:2,:]"
   ]
  },
  {
   "cell_type": "code",
   "execution_count": 63,
   "id": "994c5406",
   "metadata": {},
   "outputs": [],
   "source": [
    "MI=get_MI(test)"
   ]
  },
  {
   "cell_type": "code",
   "execution_count": null,
   "id": "c2cf1714",
   "metadata": {},
   "outputs": [],
   "source": []
  }
 ],
 "metadata": {
  "kernelspec": {
   "display_name": "Python 3 (ipykernel)",
   "language": "python",
   "name": "python3"
  },
  "language_info": {
   "codemirror_mode": {
    "name": "ipython",
    "version": 3
   },
   "file_extension": ".py",
   "mimetype": "text/x-python",
   "name": "python",
   "nbconvert_exporter": "python",
   "pygments_lexer": "ipython3",
   "version": "3.10.4"
  }
 },
 "nbformat": 4,
 "nbformat_minor": 5
}
