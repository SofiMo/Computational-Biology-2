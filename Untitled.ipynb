{
 "cells": [
  {
   "cell_type": "code",
   "execution_count": 1,
   "id": "d58456a9",
   "metadata": {},
   "outputs": [],
   "source": [
    "import Bio.SeqIO\n",
    "import numpy as np"
   ]
  },
  {
   "cell_type": "code",
   "execution_count": 2,
   "id": "4ab5cca4",
   "metadata": {},
   "outputs": [],
   "source": [
    "file=\"PF00440_rp15 (1).txt\""
   ]
  },
  {
   "cell_type": "code",
   "execution_count": 3,
   "id": "912c166b",
   "metadata": {},
   "outputs": [],
   "source": [
    "msa=np.array(list(Bio.SeqIO.parse(file,\"fasta\")))"
   ]
  },
  {
   "cell_type": "code",
   "execution_count": 18,
   "id": "b8f0b71e",
   "metadata": {},
   "outputs": [],
   "source": [
    "def get_marginal(col,am):\n",
    "    ind= col==am\n",
    "    prob= np.sum(ind)/len(ind)\n",
    "    return ind,prob"
   ]
  },
  {
   "cell_type": "code",
   "execution_count": 19,
   "id": "2759b864",
   "metadata": {},
   "outputs": [],
   "source": [
    "def get_MI(msa):\n",
    "    n=len(msa[0,:])\n",
    "    N=len(msa[:,0])\n",
    "    MI=np.zeros((n,n))\n",
    "    amino=[\"A\",\"R\",\"N\",\"D\",\"C\",\"E\",\"Q\",\"G\",\"H\",\"I\",\"L\",\"K\",\"M\",\"F\",\"P\",\"S\",\"T\",\"W\",\"Y\",\"V\"]\n",
    "    for i in range(n):  \n",
    "        col_i=msa[:,i]\n",
    "        for j in range(i,n):\n",
    "            col_j=msa[:,j]\n",
    "            for a in amino:\n",
    "                ind_a,p_a=get_marginal(col_i,a)\n",
    "                for b in amino:\n",
    "                    ind_b,p_b=get_marginal(col_j,b)\n",
    "                    p_ab=np.sum(ind_a & ind_b)/N\n",
    "                    if p_a*p_b!=0 and p_ab!=0: \n",
    "                        MI[i,j]+=p_ab*np.log(p_ab/(p_a*p_b)) \n",
    "    return MI"
   ]
  },
  {
   "cell_type": "code",
   "execution_count": 35,
   "id": "994c5406",
   "metadata": {},
   "outputs": [],
   "source": [
    "MI=get_MI(msa)"
   ]
  },
  {
   "cell_type": "code",
   "execution_count": 39,
   "id": "95a10c60",
   "metadata": {},
   "outputs": [
    {
     "data": {
      "text/plain": [
       "array([[0.66140409, 0.15557765, 0.09320818, ..., 0.02341961, 0.03941048,\n",
       "        0.0362162 ],\n",
       "       [0.        , 1.1989866 , 0.12581082, ..., 0.03432599, 0.04761783,\n",
       "        0.05625115],\n",
       "       [0.        , 0.        , 1.99175802, ..., 0.03390151, 0.03206916,\n",
       "        0.02673777],\n",
       "       ...,\n",
       "       [0.        , 0.        , 0.        , ..., 2.32472794, 0.14246425,\n",
       "        0.10468078],\n",
       "       [0.        , 0.        , 0.        , ..., 0.        , 1.07695036,\n",
       "        0.24739466],\n",
       "       [0.        , 0.        , 0.        , ..., 0.        , 0.        ,\n",
       "        1.08737789]])"
      ]
     },
     "execution_count": 39,
     "metadata": {},
     "output_type": "execute_result"
    }
   ],
   "source": [
    "MI"
   ]
  },
  {
   "cell_type": "code",
   "execution_count": 86,
   "id": "c2cf1714",
   "metadata": {},
   "outputs": [],
   "source": [
    "mat=MI+np.matrix.transpose(MI)-np.diag(np.diag(MI))"
   ]
  },
  {
   "cell_type": "code",
   "execution_count": 87,
   "id": "1d31ec97",
   "metadata": {},
   "outputs": [
    {
     "data": {
      "text/plain": [
       "(53, 100)"
      ]
     },
     "execution_count": 87,
     "metadata": {},
     "output_type": "execute_result"
    }
   ],
   "source": [
    "mat[np.sum(mat==0,axis=0)==100].shape"
   ]
  },
  {
   "cell_type": "code",
   "execution_count": 96,
   "id": "97f7f9e6",
   "metadata": {},
   "outputs": [],
   "source": [
    "ind=np.arange(0,100)\n",
    "ind=ind[np.sum(mat==0,axis=0) != 100]"
   ]
  },
  {
   "cell_type": "code",
   "execution_count": 100,
   "id": "a46d2e58",
   "metadata": {},
   "outputs": [],
   "source": [
    "test=mat[:,ind]\n",
    "test=test[ind,:]"
   ]
  },
  {
   "cell_type": "code",
   "execution_count": 102,
   "id": "97d858ce",
   "metadata": {},
   "outputs": [
    {
     "data": {
      "text/plain": [
       "(47, 47)"
      ]
     },
     "execution_count": 102,
     "metadata": {},
     "output_type": "execute_result"
    }
   ],
   "source": [
    "test.shape"
   ]
  },
  {
   "cell_type": "code",
   "execution_count": 122,
   "id": "ae5f7a08",
   "metadata": {},
   "outputs": [],
   "source": [
    "diag=np.sort(np.diag(test).argsort()[:5])"
   ]
  },
  {
   "cell_type": "code",
   "execution_count": 136,
   "id": "82b8ed47",
   "metadata": {},
   "outputs": [],
   "source": [
    "contact=np.delete(test,diag,axis=0)\n",
    "contact=np.delete(contact,diag,axis=1)"
   ]
  },
  {
   "cell_type": "code",
   "execution_count": 137,
   "id": "9a346130",
   "metadata": {},
   "outputs": [
    {
     "data": {
      "text/plain": [
       "(42, 42)"
      ]
     },
     "execution_count": 137,
     "metadata": {},
     "output_type": "execute_result"
    }
   ],
   "source": [
    "contact.shape"
   ]
  },
  {
   "cell_type": "code",
   "execution_count": 138,
   "id": "5f018f6f",
   "metadata": {},
   "outputs": [
    {
     "data": {
      "text/plain": [
       "array([[1.1989866 , 0.12581082, 0.09000671, ..., 0.03432599, 0.04761783,\n",
       "        0.05625115],\n",
       "       [0.12581082, 1.99175802, 0.10361487, ..., 0.03390151, 0.03206916,\n",
       "        0.02673777],\n",
       "       [0.09000671, 0.10361487, 1.45165561, ..., 0.02629808, 0.02189659,\n",
       "        0.02061692],\n",
       "       ...,\n",
       "       [0.03432599, 0.03390151, 0.02629808, ..., 2.32472794, 0.14246425,\n",
       "        0.10468078],\n",
       "       [0.04761783, 0.03206916, 0.02189659, ..., 0.14246425, 1.07695036,\n",
       "        0.24739466],\n",
       "       [0.05625115, 0.02673777, 0.02061692, ..., 0.10468078, 0.24739466,\n",
       "        1.08737789]])"
      ]
     },
     "execution_count": 138,
     "metadata": {},
     "output_type": "execute_result"
    }
   ],
   "source": [
    "contact"
   ]
  }
 ],
 "metadata": {
  "kernelspec": {
   "display_name": "Python 3 (ipykernel)",
   "language": "python",
   "name": "python3"
  },
  "language_info": {
   "codemirror_mode": {
    "name": "ipython",
    "version": 3
   },
   "file_extension": ".py",
   "mimetype": "text/x-python",
   "name": "python",
   "nbconvert_exporter": "python",
   "pygments_lexer": "ipython3",
   "version": "3.10.4"
  }
 },
 "nbformat": 4,
 "nbformat_minor": 5
}
