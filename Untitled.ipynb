{
 "cells": [
  {
   "cell_type": "code",
   "execution_count": 10,
   "id": "d58456a9",
   "metadata": {},
   "outputs": [],
   "source": [
    "import Bio.SeqIO"
   ]
  },
  {
   "cell_type": "code",
   "execution_count": 15,
   "id": "4ab5cca4",
   "metadata": {},
   "outputs": [],
   "source": [
    "file=\"/user/3/intillag/Downloads/work/PF00440_rp15 (1).txt\""
   ]
  },
  {
   "cell_type": "code",
   "execution_count": 16,
   "id": "912c166b",
   "metadata": {},
   "outputs": [],
   "source": [
    "msa=list(Bio.SeqIO.parse(file,\"fasta\"))"
   ]
  },
  {
   "cell_type": "code",
   "execution_count": 28,
   "id": "2759b864",
   "metadata": {},
   "outputs": [],
   "source": [
    "a=str(msa[0].seq)"
   ]
  },
  {
   "cell_type": "code",
   "execution_count": 29,
   "id": "65d2d3d1",
   "metadata": {},
   "outputs": [
    {
     "data": {
      "text/plain": [
       "100"
      ]
     },
     "execution_count": 29,
     "metadata": {},
     "output_type": "execute_result"
    }
   ],
   "source": [
    "len(a)"
   ]
  },
  {
   "cell_type": "code",
   "execution_count": null,
   "id": "2a3bdffb",
   "metadata": {},
   "outputs": [],
   "source": []
  }
 ],
 "metadata": {
  "kernelspec": {
   "display_name": "Python 3 (ipykernel)",
   "language": "python",
   "name": "python3"
  },
  "language_info": {
   "codemirror_mode": {
    "name": "ipython",
    "version": 3
   },
   "file_extension": ".py",
   "mimetype": "text/x-python",
   "name": "python",
   "nbconvert_exporter": "python",
   "pygments_lexer": "ipython3",
   "version": "3.10.6"
  }
 },
 "nbformat": 4,
 "nbformat_minor": 5
}
