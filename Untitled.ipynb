{
 "cells": [
  {
   "cell_type": "code",
   "execution_count": 3,
   "id": "d58456a9",
   "metadata": {},
   "outputs": [],
   "source": [
    "import Bio.SeqIO\n",
    "import numpy as np"
   ]
  },
  {
   "cell_type": "code",
   "execution_count": 4,
   "id": "4ab5cca4",
   "metadata": {},
   "outputs": [],
   "source": [
    "file=\"PF00440_rp15 (1).txt\""
   ]
  },
  {
   "cell_type": "code",
   "execution_count": 5,
   "id": "912c166b",
   "metadata": {},
   "outputs": [],
   "source": [
    "msa=np.array(list(Bio.SeqIO.parse(file,\"fasta\")))"
   ]
  },
  {
   "cell_type": "code",
   "execution_count": 6,
   "id": "b8f0b71e",
   "metadata": {},
   "outputs": [],
   "source": [
    "def get_marginal(col,am):\n",
    "    ind= col==am\n",
    "    prob= np.sum(ind)/len(ind)\n",
    "    return ind,prob"
   ]
  },
  {
   "cell_type": "code",
   "execution_count": 99,
   "id": "2759b864",
   "metadata": {},
   "outputs": [],
   "source": [
    "def get_MI(msa):\n",
    "    n=len(msa[0,:])\n",
    "    N=len(msa[:,0])\n",
    "    MI=np.zeros((n,n))\n",
    "    amino=[\"A\",\"R\",\"N\",\"D\",\"C\",\"E\",\"Q\",\"G\",\"H\",\"I\",\"L\",\"K\",\"M\",\"F\",\"P\",\"S\",\"T\",\"W\",\"Y\",\"V\"]\n",
    "    for i in range(n):  \n",
    "        col_i=msa[:,i]\n",
    "        for j in range(i,n):\n",
    "            col_j=msa[:,j]\n",
    "            for a in amino:\n",
    "                ind_a,p_a=get_marginal(col_i,a)\n",
    "                for b in amino:\n",
    "                    ind_b,p_b=get_marginal(col_j,b)\n",
    "                    p_ab=np.sum(ind_a & ind_b)/N\n",
    "                    if p_a*p_b!=0 and p_ab!=0: \n",
    "                        MI[i,j]+=p_ab*np.log2(p_ab/(p_a*p_b)) \n",
    "    return MI"
   ]
  },
  {
   "cell_type": "code",
   "execution_count": 100,
   "id": "994c5406",
   "metadata": {},
   "outputs": [],
   "source": [
    "MI=get_MI(msa)"
   ]
  },
  {
   "cell_type": "code",
   "execution_count": 101,
   "id": "5a95b707",
   "metadata": {},
   "outputs": [
    {
     "data": {
      "text/plain": [
       "array([[0.9542044 , 0.2244511 , 0.13447098, ..., 0.03378736, 0.05685731,\n",
       "        0.05224893],\n",
       "       [0.        , 1.72977202, 0.18150665, ..., 0.04952193, 0.06869801,\n",
       "        0.08115325],\n",
       "       [0.        , 0.        , 2.87349942, ..., 0.04890954, 0.04626602,\n",
       "        0.03857445],\n",
       "       ...,\n",
       "       [0.        , 0.        , 0.        , ..., 3.35387347, 0.20553247,\n",
       "        0.15102244],\n",
       "       [0.        , 0.        , 0.        , ..., 0.        , 1.55371095,\n",
       "        0.35691505],\n",
       "       [0.        , 0.        , 0.        , ..., 0.        , 0.        ,\n",
       "        1.56875469]])"
      ]
     },
     "execution_count": 101,
     "metadata": {},
     "output_type": "execute_result"
    }
   ],
   "source": [
    "MI"
   ]
  },
  {
   "cell_type": "code",
   "execution_count": 102,
   "id": "c2cf1714",
   "metadata": {},
   "outputs": [],
   "source": [
    "mat=MI+np.matrix.transpose(MI)-np.diag(np.diag(MI))"
   ]
  },
  {
   "cell_type": "code",
   "execution_count": 103,
   "id": "68f08c94",
   "metadata": {},
   "outputs": [
    {
     "data": {
      "text/plain": [
       "array([[0.9542044 , 0.2244511 , 0.13447098, ..., 0.03378736, 0.05685731,\n",
       "        0.05224893],\n",
       "       [0.2244511 , 1.72977202, 0.18150665, ..., 0.04952193, 0.06869801,\n",
       "        0.08115325],\n",
       "       [0.13447098, 0.18150665, 2.87349942, ..., 0.04890954, 0.04626602,\n",
       "        0.03857445],\n",
       "       ...,\n",
       "       [0.03378736, 0.04952193, 0.04890954, ..., 3.35387347, 0.20553247,\n",
       "        0.15102244],\n",
       "       [0.05685731, 0.06869801, 0.04626602, ..., 0.20553247, 1.55371095,\n",
       "        0.35691505],\n",
       "       [0.05224893, 0.08115325, 0.03857445, ..., 0.15102244, 0.35691505,\n",
       "        1.56875469]])"
      ]
     },
     "execution_count": 103,
     "metadata": {},
     "output_type": "execute_result"
    }
   ],
   "source": [
    "mat"
   ]
  },
  {
   "cell_type": "code",
   "execution_count": 9,
   "id": "1d31ec97",
   "metadata": {},
   "outputs": [
    {
     "data": {
      "text/plain": [
       "(53, 100)"
      ]
     },
     "execution_count": 9,
     "metadata": {},
     "output_type": "execute_result"
    }
   ],
   "source": [
    "mat[np.sum(mat==0,axis=0)==100].shape"
   ]
  },
  {
   "cell_type": "code",
   "execution_count": 10,
   "id": "97f7f9e6",
   "metadata": {},
   "outputs": [],
   "source": [
    "ind=np.arange(0,100)\n",
    "ind=ind[np.sum(mat==0,axis=0) != 100]"
   ]
  },
  {
   "cell_type": "code",
   "execution_count": 11,
   "id": "a46d2e58",
   "metadata": {},
   "outputs": [],
   "source": [
    "mat1=mat[:,ind]\n",
    "mat1=mat1[ind,:]"
   ]
  },
  {
   "cell_type": "code",
   "execution_count": 14,
   "id": "97d858ce",
   "metadata": {},
   "outputs": [
    {
     "data": {
      "text/plain": [
       "(47, 47)"
      ]
     },
     "execution_count": 14,
     "metadata": {},
     "output_type": "execute_result"
    }
   ],
   "source": [
    "mat1.shape"
   ]
  },
  {
   "cell_type": "code",
   "execution_count": 12,
   "id": "ae5f7a08",
   "metadata": {},
   "outputs": [],
   "source": [
    "diag=np.sort(np.diag(mat1).argsort()[:5])"
   ]
  },
  {
   "cell_type": "code",
   "execution_count": 56,
   "id": "82b8ed47",
   "metadata": {},
   "outputs": [],
   "source": [
    "contact=np.delete(mat1,diag,axis=0)\n",
    "contact=np.delete(contact,diag,axis=1)"
   ]
  },
  {
   "cell_type": "code",
   "execution_count": 81,
   "id": "20f7f29c",
   "metadata": {},
   "outputs": [],
   "source": [
    "def correct_map(mat):\n",
    "    n=mat.shape[0]\n",
    "    mi = np.zeros(shape = (n,n))\n",
    "    for i in range(n):\n",
    "        for j in range(n):\n",
    "            s = sum(mat[:,j]+mat[i,:])\n",
    "            mi[i,j] = mat[i,j] - s / n\n",
    "    return mi"
   ]
  },
  {
   "cell_type": "code",
   "execution_count": 82,
   "id": "5f018f6f",
   "metadata": {},
   "outputs": [],
   "source": [
    "c_c=correct_map(contact)"
   ]
  },
  {
   "cell_type": "code",
   "execution_count": 96,
   "id": "0964b3b9",
   "metadata": {},
   "outputs": [
    {
     "data": {
      "text/plain": [
       "array([[1.1989866 , 0.12581082, 0.09000671, ..., 0.03432599, 0.04761783,\n",
       "        0.05625115],\n",
       "       [0.12581082, 1.99175802, 0.10361487, ..., 0.03390151, 0.03206916,\n",
       "        0.02673777],\n",
       "       [0.09000671, 0.10361487, 1.45165561, ..., 0.02629808, 0.02189659,\n",
       "        0.02061692],\n",
       "       ...,\n",
       "       [0.03432599, 0.03390151, 0.02629808, ..., 2.32472794, 0.14246425,\n",
       "        0.10468078],\n",
       "       [0.04761783, 0.03206916, 0.02189659, ..., 0.14246425, 1.07695036,\n",
       "        0.24739466],\n",
       "       [0.05625115, 0.02673777, 0.02061692, ..., 0.10468078, 0.24739466,\n",
       "        1.08737789]])"
      ]
     },
     "execution_count": 96,
     "metadata": {},
     "output_type": "execute_result"
    }
   ],
   "source": [
    "contact"
   ]
  },
  {
   "cell_type": "code",
   "execution_count": 61,
   "id": "001604e6",
   "metadata": {},
   "outputs": [],
   "source": [
    "def get_cm(mat,treshold):\n",
    "    cm=np.zeros((len(mat),len(mat)))\n",
    "    cm[mat>=treshold]=1\n",
    "    cm[mat<treshold]=0\n",
    "    cm=cm.flatten()\n",
    "    return np.insert(cm,0,len(mat))"
   ]
  },
  {
   "cell_type": "code",
   "execution_count": 92,
   "id": "53bd3198",
   "metadata": {},
   "outputs": [],
   "source": [
    "contact_map=get_cm(c_c,0)"
   ]
  },
  {
   "cell_type": "code",
   "execution_count": 93,
   "id": "379e2079",
   "metadata": {},
   "outputs": [
    {
     "data": {
      "text/plain": [
       "94.0"
      ]
     },
     "execution_count": 93,
     "metadata": {},
     "output_type": "execute_result"
    }
   ],
   "source": [
    "sum(contact_map)"
   ]
  },
  {
   "cell_type": "code",
   "execution_count": 95,
   "id": "27cb4d0c",
   "metadata": {},
   "outputs": [],
   "source": [
    "with open('map.txt','wb') as f:\n",
    "    np.savetxt(f, contact_map, fmt='%.2f')"
   ]
  },
  {
   "cell_type": "code",
   "execution_count": 83,
   "id": "00e549ea",
   "metadata": {},
   "outputs": [
    {
     "data": {
      "text/plain": [
       "84.0"
      ]
     },
     "execution_count": 83,
     "metadata": {},
     "output_type": "execute_result"
    }
   ],
   "source": [
    "sum(contact_map)"
   ]
  },
  {
   "cell_type": "code",
   "execution_count": null,
   "id": "949b04dd",
   "metadata": {},
   "outputs": [],
   "source": []
  }
 ],
 "metadata": {
  "kernelspec": {
   "display_name": "Python 3 (ipykernel)",
   "language": "python",
   "name": "python3"
  },
  "language_info": {
   "codemirror_mode": {
    "name": "ipython",
    "version": 3
   },
   "file_extension": ".py",
   "mimetype": "text/x-python",
   "name": "python",
   "nbconvert_exporter": "python",
   "pygments_lexer": "ipython3",
   "version": "3.10.4"
  }
 },
 "nbformat": 4,
 "nbformat_minor": 5
}
