{
 "cells": [
  {
   "cell_type": "code",
   "execution_count": 3,
   "id": "d58456a9",
   "metadata": {},
   "outputs": [],
   "source": [
    "import Bio.SeqIO\n",
    "import numpy as np\n",
    "import math\n",
    "import pandas as pd\n",
    "import matplotlib.pyplot as plt\n",
    "import seaborn as sns"
   ]
  },
  {
   "cell_type": "code",
   "execution_count": 4,
   "id": "4ab5cca4",
   "metadata": {},
   "outputs": [],
   "source": [
    "file=\"msa.txt\""
   ]
  },
  {
   "cell_type": "code",
   "execution_count": 5,
   "id": "912c166b",
   "metadata": {},
   "outputs": [],
   "source": [
    "msa=np.array(list(Bio.SeqIO.parse(file,\"fasta\")))"
   ]
  },
  {
   "cell_type": "code",
   "execution_count": 6,
   "id": "e9b5080d",
   "metadata": {},
   "outputs": [
    {
     "data": {
      "text/plain": [
       "(12702, 100)"
      ]
     },
     "execution_count": 6,
     "metadata": {},
     "output_type": "execute_result"
    }
   ],
   "source": [
    "msa.shape"
   ]
  },
  {
   "cell_type": "code",
   "execution_count": 105,
   "id": "698f504a",
   "metadata": {},
   "outputs": [],
   "source": [
    "def clean_msa(msa):\n",
    "    N=msa.shape[1]\n",
    "    L=msa.shape[0]\n",
    "    ind=[]\n",
    "    for i in range(N):\n",
    "        counter=0\n",
    "        for j in range(L):\n",
    "            if msa[j][i]=='.':\n",
    "                counter+=1\n",
    "        if counter < L/2:\n",
    "            ind.append(i)\n",
    "    return msa[:,ind]"
   ]
  },
  {
   "cell_type": "code",
   "execution_count": 106,
   "id": "f4e6f35a",
   "metadata": {},
   "outputs": [
    {
     "data": {
      "text/plain": [
       "(12702, 46)"
      ]
     },
     "execution_count": 106,
     "metadata": {},
     "output_type": "execute_result"
    }
   ],
   "source": [
    "msa_cleaned=clean_msa(msa)\n",
    "msa_cleaned.shape"
   ]
  },
  {
   "cell_type": "code",
   "execution_count": 30,
   "id": "b8f0b71e",
   "metadata": {},
   "outputs": [],
   "source": [
    "def get_marginal(col,am):\n",
    "    ind= col==am\n",
    "    prob= np.sum(ind)/len(ind)\n",
    "    return ind,prob"
   ]
  },
  {
   "cell_type": "code",
   "execution_count": 31,
   "id": "2759b864",
   "metadata": {},
   "outputs": [],
   "source": [
    "def get_MI(msa):\n",
    "    n=len(msa[0,:])\n",
    "    N=len(msa[:,0])\n",
    "    MI=np.zeros((n,n))\n",
    "    amino=[\"A\",\"R\",\"N\",\"D\",\"C\",\"E\",\"Q\",\"G\",\"H\",\"I\",\"L\",\"K\",\"M\",\"F\",\"P\",\"S\",\"T\",\"W\",\"Y\",\"V\"]\n",
    "    for i in range(n):  \n",
    "        col_i=msa[:,i]\n",
    "        for j in range(i,n):\n",
    "            col_j=msa[:,j]\n",
    "            for a in amino:\n",
    "                ind_a,p_a=get_marginal(col_i,a)\n",
    "                for b in amino:\n",
    "                    ind_b,p_b=get_marginal(col_j,b)\n",
    "                    p_ab=np.sum(ind_a & ind_b)/N\n",
    "                    if p_a*p_b!=0 and p_ab!=0: \n",
    "                        MI[i,j]+=p_ab*math.log(p_ab/(p_a*p_b),2) \n",
    "    return MI"
   ]
  },
  {
   "cell_type": "code",
   "execution_count": 32,
   "id": "994c5406",
   "metadata": {},
   "outputs": [
    {
     "data": {
      "text/plain": [
       "array([[0.9542044 , 0.2244511 , 0.13447098, ..., 0.01852179, 0.03378736,\n",
       "        0.05685731],\n",
       "       [0.        , 1.72977202, 0.18150665, ..., 0.04192643, 0.04952193,\n",
       "        0.06869801],\n",
       "       [0.        , 0.        , 2.87349942, ..., 0.0272659 , 0.04890954,\n",
       "        0.04626602],\n",
       "       ...,\n",
       "       [0.        , 0.        , 0.        , ..., 2.62275209, 0.15144797,\n",
       "        0.09397022],\n",
       "       [0.        , 0.        , 0.        , ..., 0.        , 3.35387347,\n",
       "        0.20553247],\n",
       "       [0.        , 0.        , 0.        , ..., 0.        , 0.        ,\n",
       "        1.55371095]])"
      ]
     },
     "execution_count": 32,
     "metadata": {},
     "output_type": "execute_result"
    }
   ],
   "source": [
    "mat=get_MI(msa_cleaned)\n",
    "mat"
   ]
  },
  {
   "cell_type": "code",
   "execution_count": 107,
   "id": "5a95b707",
   "metadata": {},
   "outputs": [
    {
     "data": {
      "text/plain": [
       "array([[0.9542044 , 0.2244511 , 0.13447098, ..., 0.01852179, 0.03378736,\n",
       "        0.05685731],\n",
       "       [0.2244511 , 1.72977202, 0.18150665, ..., 0.04192643, 0.04952193,\n",
       "        0.06869801],\n",
       "       [0.13447098, 0.18150665, 2.87349942, ..., 0.0272659 , 0.04890954,\n",
       "        0.04626602],\n",
       "       ...,\n",
       "       [0.01852179, 0.04192643, 0.0272659 , ..., 2.62275209, 0.15144797,\n",
       "        0.09397022],\n",
       "       [0.03378736, 0.04952193, 0.04890954, ..., 0.15144797, 3.35387347,\n",
       "        0.20553247],\n",
       "       [0.05685731, 0.06869801, 0.04626602, ..., 0.09397022, 0.20553247,\n",
       "        1.55371095]])"
      ]
     },
     "execution_count": 107,
     "metadata": {},
     "output_type": "execute_result"
    }
   ],
   "source": [
    "#matrix of mutual information\n",
    "MI_mat=mat+np.matrix.transpose(mat)-np.diag(np.diag(mat))\n",
    "MI_mat"
   ]
  },
  {
   "cell_type": "code",
   "execution_count": 73,
   "id": "cc965eb9",
   "metadata": {},
   "outputs": [],
   "source": [
    "def remove_diag(mat):\n",
    "    for i in range(len(mat)):\n",
    "        mat[i,i]=0\n",
    "    for i in range(len(mat)):\n",
    "        mat[i,i]=mat.max()"
   ]
  },
  {
   "cell_type": "code",
   "execution_count": 74,
   "id": "cc38d9a2",
   "metadata": {},
   "outputs": [],
   "source": [
    "remove_diag(MI_mat)"
   ]
  },
  {
   "cell_type": "code",
   "execution_count": 75,
   "id": "14e60866",
   "metadata": {},
   "outputs": [
    {
     "data": {
      "text/plain": [
       "array([[0.40642286, 0.2244511 , 0.13447098, ..., 0.01852179, 0.03378736,\n",
       "        0.05685731],\n",
       "       [0.2244511 , 0.40642286, 0.18150665, ..., 0.04192643, 0.04952193,\n",
       "        0.06869801],\n",
       "       [0.13447098, 0.18150665, 0.40642286, ..., 0.0272659 , 0.04890954,\n",
       "        0.04626602],\n",
       "       ...,\n",
       "       [0.01852179, 0.04192643, 0.0272659 , ..., 0.40642286, 0.15144797,\n",
       "        0.09397022],\n",
       "       [0.03378736, 0.04952193, 0.04890954, ..., 0.15144797, 0.40642286,\n",
       "        0.20553247],\n",
       "       [0.05685731, 0.06869801, 0.04626602, ..., 0.09397022, 0.20553247,\n",
       "        0.40642286]])"
      ]
     },
     "execution_count": 75,
     "metadata": {},
     "output_type": "execute_result"
    }
   ],
   "source": [
    "MI_mat"
   ]
  },
  {
   "cell_type": "code",
   "execution_count": null,
   "id": "98f84dc6",
   "metadata": {},
   "outputs": [],
   "source": [
    "#heatmap of MI_mat\n",
    "#mimax, mimin = mi.max(), mi.min()\n",
    "#mi_normalized = (mi - mimin)/(mimax - mimin)\n",
    "#print(\"MI after normalization:\")\n",
    "hm = sns.heatmap(MI_mat)\n",
    "fig = hm.get_figure()\n",
    "#possiamo normalizzare per leggere meglio la heatmap"
   ]
  },
  {
   "cell_type": "code",
   "execution_count": 76,
   "id": "20f7f29c",
   "metadata": {},
   "outputs": [],
   "source": [
    "def correct_map(mat):\n",
    "    n=mat.shape[0]\n",
    "    mi = np.zeros(shape = (n,n))\n",
    "    for i in range(n):\n",
    "        for j in range(n):\n",
    "            s = sum(mat[:,j]+mat[i,:])\n",
    "            mi[i,j] = mat[i,j] - s / n\n",
    "    return mi"
   ]
  },
  {
   "cell_type": "code",
   "execution_count": 77,
   "id": "5f018f6f",
   "metadata": {},
   "outputs": [
    {
     "data": {
      "text/plain": [
       "array([[ 0.32354441,  0.12782706,  0.03744785, ..., -0.09763791,\n",
       "        -0.06895454, -0.02726854],\n",
       "       [ 0.12782706,  0.29605322,  0.07073793, ..., -0.08797887,\n",
       "        -0.06696556, -0.02917344],\n",
       "       [ 0.03744785,  0.07073793,  0.29525505, ..., -0.10303848,\n",
       "        -0.06797704, -0.05200451],\n",
       "       ...,\n",
       "       [-0.09763791, -0.08797887, -0.10303848, ...,  0.25698191,\n",
       "         0.01542482, -0.02343688],\n",
       "       [-0.06895454, -0.06696556, -0.06797704, ...,  0.01542482,\n",
       "         0.28381751,  0.10154317],\n",
       "       [-0.02726854, -0.02917344, -0.05200451, ..., -0.02343688,\n",
       "         0.10154317,  0.32104961]])"
      ]
     },
     "execution_count": 77,
     "metadata": {},
     "output_type": "execute_result"
    }
   ],
   "source": [
    "#Apply the correction\n",
    "corrected_MI_mat=correct_map(MI_mat)\n",
    "corrected_MI_mat"
   ]
  },
  {
   "cell_type": "code",
   "execution_count": 78,
   "id": "6b7ca4b9",
   "metadata": {},
   "outputs": [],
   "source": [
    "mi=corrected_MI_mat\n",
    "mimax, mimin = mi.max(), mi.min()\n",
    "mi_normalized = (mi - mimin)/(mimax - mimin)"
   ]
  },
  {
   "cell_type": "code",
   "execution_count": 79,
   "id": "ee87d9a5",
   "metadata": {},
   "outputs": [
    {
     "data": {
      "text/plain": [
       "array([[0.96865785, 0.54882139, 0.35494748, ..., 0.06517283, 0.126702  ,\n",
       "        0.21612331],\n",
       "       [0.54882139, 0.90968603, 0.42635856, ..., 0.0858926 , 0.13096859,\n",
       "        0.21203708],\n",
       "       [0.35494748, 0.42635856, 0.90797387, ..., 0.05358798, 0.12879885,\n",
       "        0.16306178],\n",
       "       ...,\n",
       "       [0.06517283, 0.0858926 , 0.05358798, ..., 0.82587354, 0.30770552,\n",
       "        0.22434267],\n",
       "       [0.126702  , 0.13096859, 0.12879885, ..., 0.30770552, 0.88343903,\n",
       "        0.49243938],\n",
       "       [0.21612331, 0.21203708, 0.16306178, ..., 0.22434267, 0.49243938,\n",
       "        0.9633062 ]])"
      ]
     },
     "execution_count": 79,
     "metadata": {},
     "output_type": "execute_result"
    }
   ],
   "source": [
    "mi_normalized"
   ]
  },
  {
   "cell_type": "code",
   "execution_count": 80,
   "id": "f1355db0",
   "metadata": {},
   "outputs": [
    {
     "data": {
      "image/png": "[encoded data removed]",
      "text/plain": [
       "<Figure size 432x288 with 2 Axes>"
      ]
     },
     "metadata": {
      "needs_background": "light"
     },
     "output_type": "display_data"
    }
   ],
   "source": [
    "#heatmap of corrected_MI_mat\n",
    "#mimax, mimin = mi.max(), mi.min()\n",
    "#mi_normalized = (mi - mimin)/(mimax - mimin)\n",
    "#print(\"MI after normalization:\")\n",
    "hm2 = sns.heatmap(mi_normalized)\n",
    "fig2 = hm.get_figure()"
   ]
  },
  {
   "cell_type": "code",
   "execution_count": 81,
   "id": "001604e6",
   "metadata": {},
   "outputs": [],
   "source": [
    "def get_contact_map_matrix(mat,treshold):\n",
    "    cm=np.zeros((len(mat),len(mat)))\n",
    "    cm[mat>=treshold]=1\n",
    "    cm[mat<treshold]=0\n",
    "    return cm\n",
    "\n",
    "\n",
    "def contact_map_array(cm):\n",
    "    cm=cm.flatten()\n",
    "    return np.insert(cm,0,len(mat))"
   ]
  },
  {
   "cell_type": "code",
   "execution_count": 65,
   "id": "05ae0f80",
   "metadata": {},
   "outputs": [
    {
     "data": {
      "text/plain": [
       "126.0"
      ]
     },
     "execution_count": 65,
     "metadata": {},
     "output_type": "execute_result"
    },
    {
     "data": {
      "image/png": "[encoded data removed]",
      "text/plain": [
       "<Figure size 432x288 with 1 Axes>"
      ]
     },
     "metadata": {
      "needs_background": "light"
     },
     "output_type": "display_data"
    }
   ],
   "source": [
    "#contact map of MI matrix\n",
    "cm=get_contact_map_matrix(MI_mat,0.2)\n",
    "plt.imshow(cm, cmap='Greys')\n",
    "plt.ylim(0, 46)\n",
    "plt.xlabel('Position i')\n",
    "plt.ylabel('Position j')\n",
    "plt.title('Contact Map')\n",
    "\n",
    "#create array contact map:\n",
    "contact_map=contact_map_array(cm)\n",
    "sum(contact_map)"
   ]
  },
  {
   "cell_type": "code",
   "execution_count": 82,
   "id": "53bd3198",
   "metadata": {},
   "outputs": [
    {
     "data": {
      "text/plain": [
       "94.0"
      ]
     },
     "execution_count": 82,
     "metadata": {},
     "output_type": "execute_result"
    },
    {
     "data": {
      "image/png": "[encoded data removed]",
      "text/plain": [
       "<Figure size 432x288 with 1 Axes>"
      ]
     },
     "metadata": {
      "needs_background": "light"
     },
     "output_type": "display_data"
    }
   ],
   "source": [
    "#contact map of MI matrix\n",
    "cm_corrected=get_contact_map_matrix(corrected_MI_mat,0.2)\n",
    "plt.imshow(cm_corrected, cmap='Greys')\n",
    "plt.ylim(0, 46)\n",
    "plt.xlabel('Position i')\n",
    "plt.ylabel('Position j')\n",
    "plt.title('Contact Map')\n",
    "\n",
    "#create array contact map:\n",
    "contact_map_corrected=contact_map_array(cm_corrected)\n",
    "sum(contact_map_corrected)\n",
    "#sum(cm_corrected)\n",
    "\n"
   ]
  },
  {
   "cell_type": "code",
   "execution_count": 99,
   "id": "8ebacbe5",
   "metadata": {},
   "outputs": [],
   "source": [
    "map=get_contact_map_matrix(mi_normalized,0.2)\n",
    "array=contact_map_array(map)"
   ]
  },
  {
   "cell_type": "code",
   "execution_count": 100,
   "id": "251aa969",
   "metadata": {},
   "outputs": [
    {
     "data": {
      "text/plain": [
       "Text(0.5, 1.0, 'Contact Map')"
      ]
     },
     "execution_count": 100,
     "metadata": {},
     "output_type": "execute_result"
    },
    {
     "data": {
      "image/png": "[encoded data removed]",
      "text/plain": [
       "<Figure size 432x288 with 1 Axes>"
      ]
     },
     "metadata": {
      "needs_background": "light"
     },
     "output_type": "display_data"
    }
   ],
   "source": [
    "plt.imshow(map, cmap='Greys')\n",
    "plt.ylim(0, 46)\n",
    "plt.xlabel('Position i')\n",
    "plt.ylabel('Position j')\n",
    "plt.title('Contact Map')"
   ]
  },
  {
   "cell_type": "code",
   "execution_count": 109,
   "id": "1e3eaf16",
   "metadata": {},
   "outputs": [
    {
     "data": {
      "text/plain": [
       "194.0"
      ]
     },
     "execution_count": 109,
     "metadata": {},
     "output_type": "execute_result"
    }
   ],
   "source": [
    "sum(array)-2*array[0] #ones outside from the diagonal"
   ]
  },
  {
   "cell_type": "code",
   "execution_count": 90,
   "id": "27cb4d0c",
   "metadata": {},
   "outputs": [],
   "source": [
    "with open('newarray.txt','wb') as f:\n",
    "    np.savetxt(f, array, fmt='%.2f')"
   ]
  },
  {
   "cell_type": "code",
   "execution_count": null,
   "id": "1b47197f",
   "metadata": {},
   "outputs": [],
   "source": []
  }
 ],
 "metadata": {
  "kernelspec": {
   "display_name": "Python 3 (ipykernel)",
   "language": "python",
   "name": "python3"
  },
  "language_info": {
   "codemirror_mode": {
    "name": "ipython",
    "version": 3
   },
   "file_extension": ".py",
   "mimetype": "text/x-python",
   "name": "python",
   "nbconvert_exporter": "python",
   "pygments_lexer": "ipython3",
   "version": "3.10.4"
  }
 },
 "nbformat": 4,
 "nbformat_minor": 5
}
