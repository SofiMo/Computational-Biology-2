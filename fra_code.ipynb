{
 "cells": [
  {
   "cell_type": "code",
   "execution_count": 1,
   "metadata": {},
   "outputs": [],
   "source": [
    "import Bio.SeqIO\n",
    "import numpy as np\n",
    "import pandas as pd\n",
    "from math import log\n",
    "import time\n",
    "import seaborn as sns\n",
    "import copy\n",
    "from collections import Counter\n",
    "from sklearn.preprocessing import normalize\n",
    "import matplotlib.pyplot as plt"
   ]
  },
  {
   "cell_type": "markdown",
   "metadata": {},
   "source": [
    "## IMPORT FILES"
   ]
  },
  {
   "cell_type": "code",
   "execution_count": 2,
   "metadata": {},
   "outputs": [],
   "source": [
    "filename = 'tetR_N.fasta'"
   ]
  },
  {
   "cell_type": "code",
   "execution_count": 3,
   "metadata": {},
   "outputs": [
    {
     "name": "stdout",
     "output_type": "stream",
     "text": [
      "0 : VINSALELLNEVGIEGLTTRPLAQKLGVEQPTLYWHVKNKRALL\n"
     ]
    }
   ],
   "source": [
    "for i, record in enumerate(Bio.SeqIO.parse(filename, \"fasta\")):\n",
    "    print(str(i), \":\", str(record.seq))"
   ]
  },
  {
   "cell_type": "code",
   "execution_count": 4,
   "metadata": {},
   "outputs": [],
   "source": [
    "alignments = \"msa.txt\""
   ]
  },
  {
   "cell_type": "code",
   "execution_count": 6,
   "metadata": {},
   "outputs": [],
   "source": [
    "db = []\n",
    "sequences = []\n",
    "for i, record in enumerate(Bio.SeqIO.parse(alignments, \"fasta\")):  \n",
    "    vec = []\n",
    "    for i in str(record.seq):\n",
    "        vec.append(i)\n",
    "        \n",
    "    sequences.append(str(record.seq))\n",
    "    db.append(np.array(vec).T)"
   ]
  },
  {
   "cell_type": "code",
   "execution_count": 7,
   "metadata": {},
   "outputs": [],
   "source": [
    "db = pd.DataFrame(db)"
   ]
  },
  {
   "cell_type": "markdown",
   "metadata": {},
   "source": [
    "## REMOVE GAPS"
   ]
  },
  {
   "cell_type": "code",
   "execution_count": 8,
   "metadata": {},
   "outputs": [],
   "source": [
    "# Remove columns which have #gaps > 50%\n",
    "\n",
    "def removeVGaps(db):\n",
    "    N = len(db)\n",
    "    list_index_removal = []\n",
    "\n",
    "    for j in range(100):\n",
    "        counter_gaps = 0\n",
    "        for i in range(N):\n",
    "            if (db.iloc[i][j] == '.'):\n",
    "                counter_gaps += 1\n",
    "\n",
    "        if (counter_gaps > N/2):\n",
    "            list_index_removal.append(j)\n",
    "        \n",
    "    return list_index_removal\n",
    "  \n",
    "def removeHGaps(db, N):\n",
    "    l = []\n",
    "    Nrows = len(db)\n",
    "    \n",
    "    transposed_db = pd.DataFrame(np.array(db).transpose())\n",
    "    for j in range(Nrows):\n",
    "        unique, counts = np.unique(transposed_db[j], return_counts=True)\n",
    "        dict_ = dict(zip(unique, counts))\n",
    "\n",
    "        if '-' in dict_.keys():\n",
    "            if dict_['-'] > 0.50 * N:\n",
    "                l.append(j)\n",
    "\n",
    "    return l"
   ]
  },
  {
   "cell_type": "code",
   "execution_count": 9,
   "metadata": {},
   "outputs": [
    {
     "name": "stdout",
     "output_type": "stream",
     "text": [
      "--- Remove vertical gaps: 19.405033111572266 seconds ---\n"
     ]
    }
   ],
   "source": [
    "start_time = time.time()\n",
    "list_index_removal = removeVGaps(db)\n",
    "print(\"--- Remove vertical gaps: %s seconds ---\" % (time.time() - start_time))\n",
    "filtered_db = db.drop(columns = list_index_removal)\n",
    "filtered_db.columns = range(100 - len(list_index_removal))"
   ]
  },
  {
   "cell_type": "code",
   "execution_count": 10,
   "metadata": {},
   "outputs": [
    {
     "name": "stdout",
     "output_type": "stream",
     "text": [
      "--- Remove horizontal gaps: 0.4180600643157959 seconds ---\n"
     ]
    }
   ],
   "source": [
    "N = 100 - len(list_index_removal)\n",
    "start_time = time.time()\n",
    "l = removeHGaps(filtered_db, N)\n",
    "print(\"--- Remove horizontal gaps: %s seconds ---\" % (time.time() - start_time))"
   ]
  },
  {
   "cell_type": "code",
   "execution_count": 11,
   "metadata": {},
   "outputs": [
    {
     "name": "stdout",
     "output_type": "stream",
     "text": [
      "Row indices to remove:  []\n"
     ]
    }
   ],
   "source": [
    "print(\"Row indices to remove: \", l)"
   ]
  },
  {
   "cell_type": "code",
   "execution_count": 12,
   "metadata": {},
   "outputs": [
    {
     "data": {
      "text/html": [
       "<div>\n",
       "<style scoped>\n",
       "    .dataframe tbody tr th:only-of-type {\n",
       "        vertical-align: middle;\n",
       "    }\n",
       "\n",
       "    .dataframe tbody tr th {\n",
       "        vertical-align: top;\n",
       "    }\n",
       "\n",
       "    .dataframe thead th {\n",
       "        text-align: right;\n",
       "    }\n",
       "</style>\n",
       "<table border=\"1\" class=\"dataframe\">\n",
       "  <thead>\n",
       "    <tr style=\"text-align: right;\">\n",
       "      <th></th>\n",
       "      <th>0</th>\n",
       "      <th>1</th>\n",
       "      <th>2</th>\n",
       "      <th>3</th>\n",
       "      <th>4</th>\n",
       "      <th>5</th>\n",
       "      <th>6</th>\n",
       "      <th>7</th>\n",
       "      <th>8</th>\n",
       "      <th>9</th>\n",
       "      <th>...</th>\n",
       "      <th>36</th>\n",
       "      <th>37</th>\n",
       "      <th>38</th>\n",
       "      <th>39</th>\n",
       "      <th>40</th>\n",
       "      <th>41</th>\n",
       "      <th>42</th>\n",
       "      <th>43</th>\n",
       "      <th>44</th>\n",
       "      <th>45</th>\n",
       "    </tr>\n",
       "  </thead>\n",
       "  <tbody>\n",
       "    <tr>\n",
       "      <th>0</th>\n",
       "      <td>I</td>\n",
       "      <td>L</td>\n",
       "      <td>A</td>\n",
       "      <td>A</td>\n",
       "      <td>A</td>\n",
       "      <td>L</td>\n",
       "      <td>E</td>\n",
       "      <td>L</td>\n",
       "      <td>F</td>\n",
       "      <td>L</td>\n",
       "      <td>...</td>\n",
       "      <td>F</td>\n",
       "      <td>E</td>\n",
       "      <td>S</td>\n",
       "      <td>K</td>\n",
       "      <td>A</td>\n",
       "      <td>A</td>\n",
       "      <td>I</td>\n",
       "      <td>L</td>\n",
       "      <td>E</td>\n",
       "      <td>A</td>\n",
       "    </tr>\n",
       "    <tr>\n",
       "      <th>1</th>\n",
       "      <td>I</td>\n",
       "      <td>L</td>\n",
       "      <td>Q</td>\n",
       "      <td>A</td>\n",
       "      <td>A</td>\n",
       "      <td>A</td>\n",
       "      <td>E</td>\n",
       "      <td>L</td>\n",
       "      <td>F</td>\n",
       "      <td>A</td>\n",
       "      <td>...</td>\n",
       "      <td>F</td>\n",
       "      <td>R</td>\n",
       "      <td>S</td>\n",
       "      <td>K</td>\n",
       "      <td>H</td>\n",
       "      <td>E</td>\n",
       "      <td>L</td>\n",
       "      <td>L</td>\n",
       "      <td>E</td>\n",
       "      <td>A</td>\n",
       "    </tr>\n",
       "    <tr>\n",
       "      <th>2</th>\n",
       "      <td>L</td>\n",
       "      <td>I</td>\n",
       "      <td>T</td>\n",
       "      <td>A</td>\n",
       "      <td>A</td>\n",
       "      <td>T</td>\n",
       "      <td>A</td>\n",
       "      <td>L</td>\n",
       "      <td>F</td>\n",
       "      <td>T</td>\n",
       "      <td>...</td>\n",
       "      <td>F</td>\n",
       "      <td>A</td>\n",
       "      <td>D</td>\n",
       "      <td>K</td>\n",
       "      <td>Q</td>\n",
       "      <td>A</td>\n",
       "      <td>L</td>\n",
       "      <td>L</td>\n",
       "      <td>F</td>\n",
       "      <td>A</td>\n",
       "    </tr>\n",
       "    <tr>\n",
       "      <th>3</th>\n",
       "      <td>I</td>\n",
       "      <td>L</td>\n",
       "      <td>D</td>\n",
       "      <td>A</td>\n",
       "      <td>A</td>\n",
       "      <td>A</td>\n",
       "      <td>Q</td>\n",
       "      <td>L</td>\n",
       "      <td>F</td>\n",
       "      <td>A</td>\n",
       "      <td>...</td>\n",
       "      <td>F</td>\n",
       "      <td>P</td>\n",
       "      <td>S</td>\n",
       "      <td>K</td>\n",
       "      <td>D</td>\n",
       "      <td>A</td>\n",
       "      <td>I</td>\n",
       "      <td>L</td>\n",
       "      <td>V</td>\n",
       "      <td>A</td>\n",
       "    </tr>\n",
       "    <tr>\n",
       "      <th>4</th>\n",
       "      <td>I</td>\n",
       "      <td>I</td>\n",
       "      <td>R</td>\n",
       "      <td>S</td>\n",
       "      <td>A</td>\n",
       "      <td>Q</td>\n",
       "      <td>E</td>\n",
       "      <td>S</td>\n",
       "      <td>F</td>\n",
       "      <td>S</td>\n",
       "      <td>...</td>\n",
       "      <td>F</td>\n",
       "      <td>K</td>\n",
       "      <td>N</td>\n",
       "      <td>K</td>\n",
       "      <td>E</td>\n",
       "      <td>E</td>\n",
       "      <td>L</td>\n",
       "      <td>L</td>\n",
       "      <td>F</td>\n",
       "      <td>.</td>\n",
       "    </tr>\n",
       "    <tr>\n",
       "      <th>...</th>\n",
       "      <td>...</td>\n",
       "      <td>...</td>\n",
       "      <td>...</td>\n",
       "      <td>...</td>\n",
       "      <td>...</td>\n",
       "      <td>...</td>\n",
       "      <td>...</td>\n",
       "      <td>...</td>\n",
       "      <td>...</td>\n",
       "      <td>...</td>\n",
       "      <td>...</td>\n",
       "      <td>...</td>\n",
       "      <td>...</td>\n",
       "      <td>...</td>\n",
       "      <td>...</td>\n",
       "      <td>...</td>\n",
       "      <td>...</td>\n",
       "      <td>...</td>\n",
       "      <td>...</td>\n",
       "      <td>...</td>\n",
       "      <td>...</td>\n",
       "    </tr>\n",
       "    <tr>\n",
       "      <th>12697</th>\n",
       "      <td>L</td>\n",
       "      <td>V</td>\n",
       "      <td>E</td>\n",
       "      <td>A</td>\n",
       "      <td>A</td>\n",
       "      <td>I</td>\n",
       "      <td>D</td>\n",
       "      <td>L</td>\n",
       "      <td>F</td>\n",
       "      <td>A</td>\n",
       "      <td>...</td>\n",
       "      <td>L</td>\n",
       "      <td>G</td>\n",
       "      <td>G</td>\n",
       "      <td>K</td>\n",
       "      <td>A</td>\n",
       "      <td>G</td>\n",
       "      <td>L</td>\n",
       "      <td>R</td>\n",
       "      <td>A</td>\n",
       "      <td>A</td>\n",
       "    </tr>\n",
       "    <tr>\n",
       "      <th>12698</th>\n",
       "      <td>.</td>\n",
       "      <td>F</td>\n",
       "      <td>A</td>\n",
       "      <td>A</td>\n",
       "      <td>A</td>\n",
       "      <td>E</td>\n",
       "      <td>R</td>\n",
       "      <td>I</td>\n",
       "      <td>V</td>\n",
       "      <td>E</td>\n",
       "      <td>...</td>\n",
       "      <td>F</td>\n",
       "      <td>A</td>\n",
       "      <td>G</td>\n",
       "      <td>F</td>\n",
       "      <td>D</td>\n",
       "      <td>E</td>\n",
       "      <td>F</td>\n",
       "      <td>V</td>\n",
       "      <td>A</td>\n",
       "      <td>E</td>\n",
       "    </tr>\n",
       "    <tr>\n",
       "      <th>12699</th>\n",
       "      <td>.</td>\n",
       "      <td>.</td>\n",
       "      <td>.</td>\n",
       "      <td>.</td>\n",
       "      <td>.</td>\n",
       "      <td>R</td>\n",
       "      <td>K</td>\n",
       "      <td>H</td>\n",
       "      <td>L</td>\n",
       "      <td>A</td>\n",
       "      <td>...</td>\n",
       "      <td>V</td>\n",
       "      <td>A</td>\n",
       "      <td>S</td>\n",
       "      <td>R</td>\n",
       "      <td>D</td>\n",
       "      <td>E</td>\n",
       "      <td>L</td>\n",
       "      <td>L</td>\n",
       "      <td>.</td>\n",
       "      <td>.</td>\n",
       "    </tr>\n",
       "    <tr>\n",
       "      <th>12700</th>\n",
       "      <td>.</td>\n",
       "      <td>.</td>\n",
       "      <td>A</td>\n",
       "      <td>A</td>\n",
       "      <td>A</td>\n",
       "      <td>L</td>\n",
       "      <td>A</td>\n",
       "      <td>L</td>\n",
       "      <td>A</td>\n",
       "      <td>A</td>\n",
       "      <td>...</td>\n",
       "      <td>A</td>\n",
       "      <td>D</td>\n",
       "      <td>S</td>\n",
       "      <td>K</td>\n",
       "      <td>A</td>\n",
       "      <td>A</td>\n",
       "      <td>V</td>\n",
       "      <td>L</td>\n",
       "      <td>N</td>\n",
       "      <td>H</td>\n",
       "    </tr>\n",
       "    <tr>\n",
       "      <th>12701</th>\n",
       "      <td>.</td>\n",
       "      <td>L</td>\n",
       "      <td>Q</td>\n",
       "      <td>T</td>\n",
       "      <td>G</td>\n",
       "      <td>L</td>\n",
       "      <td>E</td>\n",
       "      <td>L</td>\n",
       "      <td>F</td>\n",
       "      <td>G</td>\n",
       "      <td>...</td>\n",
       "      <td>F</td>\n",
       "      <td>T</td>\n",
       "      <td>D</td>\n",
       "      <td>R</td>\n",
       "      <td>A</td>\n",
       "      <td>D</td>\n",
       "      <td>L</td>\n",
       "      <td>F</td>\n",
       "      <td>R</td>\n",
       "      <td>.</td>\n",
       "    </tr>\n",
       "  </tbody>\n",
       "</table>\n",
       "<p>12702 rows × 46 columns</p>\n",
       "</div>"
      ],
      "text/plain": [
       "      0  1  2  3  4  5  6  7  8  9   ... 36 37 38 39 40 41 42 43 44 45\n",
       "0      I  L  A  A  A  L  E  L  F  L  ...  F  E  S  K  A  A  I  L  E  A\n",
       "1      I  L  Q  A  A  A  E  L  F  A  ...  F  R  S  K  H  E  L  L  E  A\n",
       "2      L  I  T  A  A  T  A  L  F  T  ...  F  A  D  K  Q  A  L  L  F  A\n",
       "3      I  L  D  A  A  A  Q  L  F  A  ...  F  P  S  K  D  A  I  L  V  A\n",
       "4      I  I  R  S  A  Q  E  S  F  S  ...  F  K  N  K  E  E  L  L  F  .\n",
       "...   .. .. .. .. .. .. .. .. .. ..  ... .. .. .. .. .. .. .. .. .. ..\n",
       "12697  L  V  E  A  A  I  D  L  F  A  ...  L  G  G  K  A  G  L  R  A  A\n",
       "12698  .  F  A  A  A  E  R  I  V  E  ...  F  A  G  F  D  E  F  V  A  E\n",
       "12699  .  .  .  .  .  R  K  H  L  A  ...  V  A  S  R  D  E  L  L  .  .\n",
       "12700  .  .  A  A  A  L  A  L  A  A  ...  A  D  S  K  A  A  V  L  N  H\n",
       "12701  .  L  Q  T  G  L  E  L  F  G  ...  F  T  D  R  A  D  L  F  R  .\n",
       "\n",
       "[12702 rows x 46 columns]"
      ]
     },
     "execution_count": 12,
     "metadata": {},
     "output_type": "execute_result"
    }
   ],
   "source": [
    "filtered_db"
   ]
  },
  {
   "cell_type": "markdown",
   "metadata": {},
   "source": [
    "## COMPUTE ENTROPY MSA"
   ]
  },
  {
   "cell_type": "code",
   "execution_count": 11,
   "metadata": {},
   "outputs": [],
   "source": [
    "# Calculate Shannon's Entropy per column of the alignment \n",
    "# (H = - sum_{i=1}^{M} P_i * log_2(P_i))\n",
    "\n",
    "from scipy.stats import entropy\n",
    "from sklearn import preprocessing\n",
    "import math\n",
    "\n",
    "amminoacids = ['A', 'R', 'N', 'D', 'C', 'Q', 'E', 'G', 'H', 'I', 'L', 'K', 'M', 'F', 'P', 'S', 'T', 'W', 'Y', 'V', '-', 'X']\n",
    "    \n",
    "def shannon_entropy(db, M):\n",
    "    \n",
    "    entropy_list = []\n",
    "    entropy_i = 0\n",
    "    amm = np.unique(db)\n",
    "\n",
    "    for a in amminoacids: \n",
    "        \n",
    "        c = Counter(db)\n",
    "        n_i = c[a]\n",
    "        P_i = n_i/float(M) \n",
    "        if P_i != 0:\n",
    "            entropy_i = P_i*(math.log(P_i,2))\n",
    "            entropy_list.append(entropy_i)\n",
    "\n",
    "    sh_entropy = -(sum(entropy_list))\n",
    "\n",
    "    return sh_entropy\n"
   ]
  },
  {
   "cell_type": "code",
   "execution_count": 12,
   "metadata": {},
   "outputs": [],
   "source": [
    "Ncol = len(filtered_db)\n",
    "entropies = []\n",
    "for i in range(N):\n",
    "    entropy = shannon_entropy(filtered_db[i], Ncol)\n",
    "    entropies.append(entropy)"
   ]
  },
  {
   "cell_type": "code",
   "execution_count": 13,
   "metadata": {},
   "outputs": [
    {
     "data": {
      "image/png": "[encoded data removed]",
      "text/plain": [
       "<Figure size 432x288 with 1 Axes>"
      ]
     },
     "metadata": {
      "needs_background": "light"
     },
     "output_type": "display_data"
    }
   ],
   "source": [
    "x = range(0, 46)\n",
    "y = entropies\n",
    "\n",
    "plt.bar(x, y)\n",
    "plt.title('Shannon Entropy per column')\n",
    "plt.xlabel('Position in the MSA')\n",
    "plt.ylabel('Entropy')\n",
    "plt.savefig('Desktop/entropy.pdf')"
   ]
  },
  {
   "cell_type": "code",
   "execution_count": 14,
   "metadata": {},
   "outputs": [
    {
     "name": "stdout",
     "output_type": "stream",
     "text": [
      "[61, 53, 99, 226, 7, 11, 76, 11035, 24, 1, 7, 19, 2, 1, 422, 366, 55, 2, 0, 6]\n"
     ]
    },
    {
     "data": {
      "image/png": "[encoded data removed]",
      "text/plain": [
       "<Figure size 432x288 with 1 Axes>"
      ]
     },
     "metadata": {
      "needs_background": "light"
     },
     "output_type": "display_data"
    }
   ],
   "source": [
    "# Analysis of column 12 of the MSA\n",
    "freq = []\n",
    "amminoacids = ['A', 'R', 'N', 'D', 'C', 'Q', 'E', 'G', 'H', 'I', 'L', 'K', 'M', 'F', 'P', 'S', 'T', 'W', 'Y', 'V']\n",
    "for a in amminoacids: \n",
    "    c = Counter(filtered_db[12])\n",
    "    freq.append(c[a])\n",
    "    \n",
    "print(freq)   \n",
    "x = range(0, len(amminoacids))\n",
    "plt.bar(amminoacids, freq, color = 'g')\n",
    "plt.xlabel('Amino-acids')\n",
    "plt.ylabel('Frequency')\n",
    "plt.title('Amino-acids distribution column 12')\n",
    "plt.savefig('Desktop/freq_distribution.pdf')"
   ]
  },
  {
   "cell_type": "code",
   "execution_count": 15,
   "metadata": {},
   "outputs": [
    {
     "name": "stdout",
     "output_type": "stream",
     "text": [
      "[1580, 947, 325, 871, 49, 524, 1403, 227, 236, 491, 1690, 427, 82, 300, 12, 319, 437, 11, 101, 724]\n"
     ]
    },
    {
     "data": {
      "image/png": "[encoded data removed]",
      "text/plain": [
       "<Figure size 432x288 with 1 Axes>"
      ]
     },
     "metadata": {
      "needs_background": "light"
     },
     "output_type": "display_data"
    }
   ],
   "source": [
    "# Analysis of column 44 of the MSA (Highest entropy)\n",
    "\n",
    "freq = []\n",
    "amminoacids = ['A', 'R', 'N', 'D', 'C', 'Q', 'E', 'G', 'H', 'I', 'L', 'K', 'M', 'F', 'P', 'S', 'T', 'W', 'Y', 'V']\n",
    "for a in amminoacids: \n",
    "    c = Counter(filtered_db[44])\n",
    "    freq.append(c[a])\n",
    "    \n",
    "print(freq)   \n",
    "x = range(0, len(amminoacids))\n",
    "plt.bar(amminoacids, freq, color = 'g')\n",
    "plt.xlabel('Amino-acids')\n",
    "plt.ylabel('Frequency')\n",
    "plt.title('Amino-acids distribution column 44')\n",
    "plt.savefig('Desktop/freq_distribution.pdf')"
   ]
  },
  {
   "cell_type": "markdown",
   "metadata": {},
   "source": [
    "## COMPUTE MUTUAL INFORMATION"
   ]
  },
  {
   "cell_type": "code",
   "execution_count": 13,
   "metadata": {},
   "outputs": [],
   "source": [
    "# Compute for each position (i,j) the Mutual Information \n",
    "Ncol = len(db)\n",
    "\n",
    "amminoacids = ['A', 'R', 'N', 'D', 'C', 'Q', 'E', 'G', 'H', 'I', 'L', 'K', 'M', 'F', 'P', 'S', 'T', 'W', 'Y', 'V']\n",
    "    \n",
    "def computeCount(i, a, db, Ncol):\n",
    "    c = Counter(db[i])\n",
    "    return c[a] / Ncol\n",
    "\n",
    "def computeDictProbabilities(db, N, Ncol, amminoacids):\n",
    "    dict_amminoacids = {}\n",
    "    for i in range(N):\n",
    "        for a in amminoacids:\n",
    "            dict_amminoacids[(i, a)] = computeCount(i, a, db, Ncol)\n",
    "\n",
    "    return dict_amminoacids\n",
    "\n",
    "def computeJointCount(k, db, N, Ncol):\n",
    "    \n",
    "    i = k[0]\n",
    "    j = k[1]\n",
    "    a = k[2]\n",
    "    b = k[3]\n",
    "    \n",
    "    x = np.array(db[i])\n",
    "    y = np.array(db[j])\n",
    "    \n",
    "    return np.count_nonzero(np.logical_and(x == a, y == b)) / Ncol\n",
    "\n",
    "def initializeJointDict(N, db):\n",
    "    dict_joint = {}\n",
    "    gap = '-'\n",
    "    \n",
    "    for i in range(N):\n",
    "        for j in range(i):\n",
    "            amm_i = list(set(db[i]) & set(amminoacids))\n",
    "            amm_j = list(set(db[j]) & set(amminoacids))\n",
    "            for a in amm_i:\n",
    "                if a == '-':\n",
    "                    pass\n",
    "                for b in list(amm_j):\n",
    "                    if b == '-':\n",
    "                        pass\n",
    "                \n",
    "                    dict_joint[(i, j, a, b)] = 0  \n",
    "                        \n",
    "    return dict_joint\n",
    "                    \n",
    "\n",
    "def computeJointDictProbabilities(db, N, Ncol, amminoacids):\n",
    "    start_time = time.time()\n",
    "    dict_joint = initializeJointDict(N, db)\n",
    "    print(\"--- Initialization of the dictionnary: %s seconds ---\" % (time.time() - start_time))\n",
    "    print(len(dict_joint))\n",
    "    start_time = time.time()\n",
    "    count = 0\n",
    "    for k in dict_joint.keys():\n",
    "        count += 1\n",
    "        dict_joint[k] = computeJointCount(k, db, N, Ncol)\n",
    "            \n",
    "        if count % 100000 == 0:\n",
    "            print(f\"---{count} Keys: %s seconds ---\" % (time.time() - start_time))\n",
    "            \n",
    "    return dict_joint"
   ]
  },
  {
   "cell_type": "code",
   "execution_count": 14,
   "metadata": {},
   "outputs": [
    {
     "name": "stdout",
     "output_type": "stream",
     "text": [
      "--- Compute probability dictionnary: 0.969749927520752 seconds ---\n"
     ]
    }
   ],
   "source": [
    "start_time = time.time()\n",
    "dict_probabilities = computeDictProbabilities(filtered_db, N, Ncol, amminoacids)\n",
    "print(\"--- Compute probability dictionnary: %s seconds ---\" % (time.time() - start_time))"
   ]
  },
  {
   "cell_type": "code",
   "execution_count": 15,
   "metadata": {},
   "outputs": [
    {
     "name": "stdout",
     "output_type": "stream",
     "text": [
      "--- Initialization of the dictionnary: 2.8420050144195557 seconds ---\n",
      "331783\n",
      "---100000 Keys: 75.39087104797363 seconds ---\n",
      "---200000 Keys: 157.35144805908203 seconds ---\n",
      "---300000 Keys: 239.71704387664795 seconds ---\n",
      "--- Compute joint probability dictionnary: 268.8927261829376 seconds ---\n"
     ]
    }
   ],
   "source": [
    "start_time = time.time()\n",
    "dict_joint = computeJointDictProbabilities(filtered_db, N, Ncol, amminoacids)\n",
    "print(\"--- Compute joint probability dictionnary: %s seconds ---\" % (time.time() - start_time))"
   ]
  },
  {
   "cell_type": "code",
   "execution_count": 16,
   "metadata": {},
   "outputs": [],
   "source": [
    "def computeMutualInformation(db, N, amminoacids, dict_prob, dict_joint):\n",
    "    matrix = np.zeros(shape = (N, N))\n",
    "    \n",
    "    for i in range(N):\n",
    "        for j in range(N):\n",
    "            mi = 0\n",
    "            for a in amminoacids:\n",
    "                for b in amminoacids:\n",
    "                    p_a = dict_prob[(i, a)]\n",
    "                    p_b = dict_prob[(j, b)]\n",
    "                    if (i, j, a, b) in dict_joint.keys():\n",
    "                        p_joint = dict_joint[(i, j, a, b)]\n",
    "                    elif (j, i, b, a) in dict_joint.keys():\n",
    "                        p_joint = dict_joint[(j, i, b, a)]\n",
    "                    else:\n",
    "                        p_joint = 0\n",
    "\n",
    "                    if (p_joint != 0):\n",
    "                        mi += p_joint * log((p_joint / (p_a * p_b)), 2)\n",
    "\n",
    "                    else:\n",
    "                        mi += 0\n",
    "\n",
    "                matrix[i][j] = mi\n",
    "            \n",
    "    return matrix"
   ]
  },
  {
   "cell_type": "code",
   "execution_count": 17,
   "metadata": {},
   "outputs": [
    {
     "name": "stdout",
     "output_type": "stream",
     "text": [
      "--- Compute Mutual Information matrix: 0.3412787914276123 seconds ---\n"
     ]
    }
   ],
   "source": [
    "start_time = time.time()\n",
    "mi = computeMutualInformation(filtered_db, N, amminoacids, dict_probabilities, dict_joint)\n",
    "print(\"--- Compute Mutual Information matrix: %s seconds ---\" % (time.time() - start_time))\n",
    "\n",
    "for i in range(N):\n",
    "    mi[i][i] = mi.max()"
   ]
  },
  {
   "cell_type": "code",
   "execution_count": 18,
   "metadata": {},
   "outputs": [
    {
     "data": {
      "text/plain": [
       "array([[0.40642286, 0.2244511 , 0.13447098, ..., 0.01852179, 0.03378736,\n",
       "        0.05685731],\n",
       "       [0.2244511 , 0.40642286, 0.18150665, ..., 0.04192643, 0.04952193,\n",
       "        0.06869801],\n",
       "       [0.13447098, 0.18150665, 0.40642286, ..., 0.0272659 , 0.04890954,\n",
       "        0.04626602],\n",
       "       ...,\n",
       "       [0.01852179, 0.04192643, 0.0272659 , ..., 0.40642286, 0.15144797,\n",
       "        0.09397022],\n",
       "       [0.03378736, 0.04952193, 0.04890954, ..., 0.15144797, 0.40642286,\n",
       "        0.20553247],\n",
       "       [0.05685731, 0.06869801, 0.04626602, ..., 0.09397022, 0.20553247,\n",
       "        0.40642286]])"
      ]
     },
     "execution_count": 18,
     "metadata": {},
     "output_type": "execute_result"
    }
   ],
   "source": [
    "mi"
   ]
  },
  {
   "cell_type": "markdown",
   "metadata": {},
   "source": [
    "### Implement correction to the mutual information matrix"
   ]
  },
  {
   "cell_type": "code",
   "execution_count": 32,
   "metadata": {},
   "outputs": [],
   "source": [
    "# Correction MI\n",
    "N = 46\n",
    "\n",
    "def correctMI(N, mi):\n",
    "    mi_corrected = np.zeros(shape = (N, N))\n",
    "    \n",
    "    for i in range(N):\n",
    "        for j in range(N):\n",
    "            if i == j:\n",
    "                pass\n",
    "            sum_row_col = computeSum(N, mi, i, j)\n",
    "            mi_corrected[i][j] = mi[i][j] - sum_row_col / N\n",
    "            \n",
    "    return mi_corrected\n",
    "        \n",
    "        \n",
    "def computeSum(N, db, i, j):\n",
    "    counter = 0\n",
    "    for k in range(N):\n",
    "        counter += (db[k][j] + db[i][k])\n",
    "    \n",
    "    return counter "
   ]
  },
  {
   "cell_type": "code",
   "execution_count": 33,
   "metadata": {},
   "outputs": [],
   "source": [
    "mi_corrected = correctMI(N, mi)"
   ]
  },
  {
   "cell_type": "code",
   "execution_count": 34,
   "metadata": {},
   "outputs": [
    {
     "name": "stdout",
     "output_type": "stream",
     "text": [
      "MI after normalization:\n"
     ]
    },
    {
     "data": {
      "image/png": "[encoded data removed]",
      "text/plain": [
       "<Figure size 432x288 with 2 Axes>"
      ]
     },
     "metadata": {
      "needs_background": "light"
     },
     "output_type": "display_data"
    }
   ],
   "source": [
    "mimax, mimin = mi.max(), mi.min()\n",
    "mi_normalized = (mi - mimin)/(mimax - mimin)\n",
    "print(\"MI after normalization:\")\n",
    "hm = sns.heatmap(mi_normalized)\n",
    "fig = hm.get_figure()\n",
    "fig.savefig(\"Desktop/heatmap.pdf\") "
   ]
  },
  {
   "cell_type": "code",
   "execution_count": 35,
   "metadata": {},
   "outputs": [
    {
     "name": "stdout",
     "output_type": "stream",
     "text": [
      "MI corrected after normalization:\n"
     ]
    },
    {
     "data": {
      "image/png": "[encoded data removed]",
      "text/plain": [
       "<Figure size 432x288 with 2 Axes>"
      ]
     },
     "metadata": {
      "needs_background": "light"
     },
     "output_type": "display_data"
    }
   ],
   "source": [
    "mimax, mimin = mi_corrected.max(), mi_corrected.min()\n",
    "mi_corrected_normalized = (mi_corrected - mimin)/(mimax - mimin)\n",
    "print(\"MI corrected after normalization:\")\n",
    "\n",
    "hm = sns.heatmap(mi_corrected_normalized)\n",
    "fig = hm.get_figure()\n",
    "fig.savefig(\"Desktop/heatmap_correction.pdf\") "
   ]
  },
  {
   "cell_type": "markdown",
   "metadata": {},
   "source": [
    "## CONTACT MAP"
   ]
  },
  {
   "cell_type": "code",
   "execution_count": 36,
   "metadata": {},
   "outputs": [],
   "source": [
    "# Compute the contact map from the MI matrix\n",
    "# Naive approach => set the treshold to a fixed value\n",
    "\n",
    "def computeContactMap(matrix, threshold):\n",
    "    cm = np.zeros(shape = (N, N))\n",
    "    \n",
    "    for i in range(N):\n",
    "        for j in range(N):\n",
    "            if matrix[i][j] > threshold:\n",
    "                cm[i][j] = 1\n",
    "                \n",
    "    return cm"
   ]
  },
  {
   "cell_type": "code",
   "execution_count": 37,
   "metadata": {},
   "outputs": [
    {
     "name": "stdout",
     "output_type": "stream",
     "text": [
      "--- Compute Contact Map matrix (naive treshold strategy): 0.001934051513671875 seconds ---\n"
     ]
    }
   ],
   "source": [
    "start_time = time.time()\n",
    "contact_map = computeContactMap(mi_corrected_normalized, 0.3)\n",
    "print(\"--- Compute Contact Map matrix (naive treshold strategy): %s seconds ---\" % (time.time() - start_time))"
   ]
  },
  {
   "cell_type": "code",
   "execution_count": 38,
   "metadata": {},
   "outputs": [
    {
     "data": {
      "image/png": "[encoded data removed]",
      "text/plain": [
       "<Figure size 432x288 with 1 Axes>"
      ]
     },
     "metadata": {
      "needs_background": "light"
     },
     "output_type": "display_data"
    }
   ],
   "source": [
    "cm = pd.DataFrame(contact_map)\n",
    "cm = cm.reindex(index=cm.index[::-1])\n",
    "plt.imshow(cm, cmap='Greys')\n",
    "plt.ylim(0, 46)\n",
    "plt.xlabel('Position i')\n",
    "plt.ylabel('Position j')\n",
    "plt.title('Contact Map')\n",
    "plt.savefig('Desktop/contact_map.pdf')"
   ]
  },
  {
   "cell_type": "code",
   "execution_count": 39,
   "metadata": {},
   "outputs": [],
   "source": [
    "def getCorrectStructureCM(cm, N):\n",
    "    arr = np.array(cm).flatten()\n",
    "    return np.concatenate(([N],arr))"
   ]
  },
  {
   "cell_type": "code",
   "execution_count": 41,
   "metadata": {},
   "outputs": [],
   "source": [
    "arr = getCorrectStructureCM(cm, N)"
   ]
  },
  {
   "cell_type": "code",
   "execution_count": 42,
   "metadata": {},
   "outputs": [],
   "source": [
    "with open('Desktop/my_contacts_X.lst','w') as f:\n",
    "    for s in arr:\n",
    "        lines=f.write(str(int(s)) + '\\n')"
   ]
  },
  {
   "cell_type": "markdown",
   "metadata": {},
   "source": [
    "### GENERATE DIFFERENT LISTS "
   ]
  },
  {
   "cell_type": "code",
   "execution_count": null,
   "metadata": {},
   "outputs": [],
   "source": [
    "# Generate different contact map with different thresholds\n",
    "# Generate multiple my_contacts lists to compare the 3D structure generated with the target structure\n",
    "threshold = 0.1\n",
    "for i in range(30):\n",
    "    cm = computeContactMap(mi_corrected_normalized, threshold)\n",
    "    threshold += 0.01\n",
    "    arr = getCorrectStructureCM(cm, N)\n",
    "    with open(f'Desktop/ML/my_contacts_{i}.lst','w') as f:\n",
    "        for s in arr:\n",
    "            lines=f.write(str(int(s)) + '\\n')"
   ]
  },
  {
   "cell_type": "markdown",
   "metadata": {},
   "source": [
    "## RESULTS"
   ]
  },
  {
   "cell_type": "code",
   "execution_count": 43,
   "metadata": {},
   "outputs": [],
   "source": [
    "# Using PyMol software comparison of the predicted and target structure\n",
    "# For each threshold, get the corresponding RMSD\n",
    "# Plot the RMSD with respect to the threshold\n",
    "# Choice of the lowest RMDS --> corresponding threshold --> best structure"
   ]
  },
  {
   "cell_type": "code",
   "execution_count": 19,
   "metadata": {},
   "outputs": [],
   "source": [
    "RMSD = [(21, 14.155457971041482), (20, 13.648318291793071), (22, 10.011766420029105), (23, 9.40993033997053), (27, 11.210851198713584), (26, 14.010418452798989), (18, 11.345876425723436), (24, 8.709864516072242), (25, 10.958797375479007), (19, 7.841266600915572), (8, 4.976893919518105), (9, 8.717402330608081), (2, 7.382323589670101), (3, 7.771853445381056), (1, 6.173512630465978), (0, 8.117929933862552), (4, 5.247375864488261), (5, 10.040145070059511), (7, 8.253325776716695), (6, 7.442699379961625), (14, 5.303434834659053), (28, 13.456726117049085), (29, 6.235579013006604), (15, 8.08074546997867), (17, 8.00909874698055), (16, 8.626415313987488), (12, 7.906166009344227), (13, 9.646571786505568), (11, 8.887044608992428), (10, 8.29790706954883)]\n",
    "RMSD.sort()"
   ]
  },
  {
   "cell_type": "code",
   "execution_count": 20,
   "metadata": {},
   "outputs": [
    {
     "data": {
      "text/plain": [
       "[(0, 8.117929933862552),\n",
       " (1, 6.173512630465978),\n",
       " (2, 7.382323589670101),\n",
       " (3, 7.771853445381056),\n",
       " (4, 5.247375864488261),\n",
       " (5, 10.040145070059511),\n",
       " (6, 7.442699379961625),\n",
       " (7, 8.253325776716695),\n",
       " (8, 4.976893919518105),\n",
       " (9, 8.717402330608081),\n",
       " (10, 8.29790706954883),\n",
       " (11, 8.887044608992428),\n",
       " (12, 7.906166009344227),\n",
       " (13, 9.646571786505568),\n",
       " (14, 5.303434834659053),\n",
       " (15, 8.08074546997867),\n",
       " (16, 8.626415313987488),\n",
       " (17, 8.00909874698055),\n",
       " (18, 11.345876425723436),\n",
       " (19, 7.841266600915572),\n",
       " (20, 13.648318291793071),\n",
       " (21, 14.155457971041482),\n",
       " (22, 10.011766420029105),\n",
       " (23, 9.40993033997053),\n",
       " (24, 8.709864516072242),\n",
       " (25, 10.958797375479007),\n",
       " (26, 14.010418452798989),\n",
       " (27, 11.210851198713584),\n",
       " (28, 13.456726117049085),\n",
       " (29, 6.235579013006604)]"
      ]
     },
     "execution_count": 20,
     "metadata": {},
     "output_type": "execute_result"
    }
   ],
   "source": [
    "RMSD"
   ]
  },
  {
   "cell_type": "code",
   "execution_count": 45,
   "metadata": {},
   "outputs": [
    {
     "name": "stdout",
     "output_type": "stream",
     "text": [
      "Min RMSD:  4.976893919518105\n"
     ]
    },
    {
     "data": {
      "image/png": "[encoded data removed]",
      "text/plain": [
       "<Figure size 432x288 with 1 Axes>"
      ]
     },
     "metadata": {
      "needs_background": "light"
     },
     "output_type": "display_data"
    }
   ],
   "source": [
    "threshold = np.linspace(0.1, 0.4, 30)\n",
    "rmsd = []\n",
    "for el in RMSD:\n",
    "    rmsd.append(el[1])\n",
    "    \n",
    "plt.plot(threshold,rmsd, 'r')\n",
    "plt.ylim(0,max(rmsd)+1)\n",
    "plt.title('RMSD for different thresholds')\n",
    "plt.xlabel('Threshold')\n",
    "plt.ylabel('RMSD')\n",
    "plt.savefig('Desktop/RMSD.pdf')\n",
    "\n",
    "print(\"Min RMSD: \", min(rmsd))"
   ]
  }
 ],
 "metadata": {
  "kernelspec": {
   "display_name": "Python 3 (ipykernel)",
   "language": "python",
   "name": "python3"
  },
  "language_info": {
   "codemirror_mode": {
    "name": "ipython",
    "version": 3
   },
   "file_extension": ".py",
   "mimetype": "text/x-python",
   "name": "python",
   "nbconvert_exporter": "python",
   "pygments_lexer": "ipython3",
   "version": "3.10.4"
  }
 },
 "nbformat": 4,
 "nbformat_minor": 4
}
